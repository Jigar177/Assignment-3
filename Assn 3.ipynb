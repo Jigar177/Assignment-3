{
 "cells": [
  {
   "cell_type": "markdown",
   "id": "a5746a08",
   "metadata": {},
   "source": [
    "# Question 1"
   ]
  },
  {
   "cell_type": "code",
   "execution_count": 14,
   "id": "e6633798",
   "metadata": {},
   "outputs": [
    {
     "name": "stdout",
     "output_type": "stream",
     "text": [
      "20\n"
     ]
    }
   ],
   "source": [
    "def sum(list1):\n",
    "    sum = 0\n",
    "    for i in list1:\n",
    "        sum += i\n",
    "    print(sum)\n",
    "list1 = [8, 2, 3, 0, 7]\n",
    "sum(list1)"
   ]
  },
  {
   "cell_type": "markdown",
   "id": "527307d7",
   "metadata": {},
   "source": [
    "# Question 2"
   ]
  },
  {
   "cell_type": "code",
   "execution_count": 27,
   "id": "d95a416e",
   "metadata": {},
   "outputs": [
    {
     "name": "stdout",
     "output_type": "stream",
     "text": [
      "enter the string: abcd1234\n"
     ]
    },
    {
     "data": {
      "text/plain": [
       "'4321dcba'"
      ]
     },
     "execution_count": 27,
     "metadata": {},
     "output_type": "execute_result"
    }
   ],
   "source": [
    "def reverse(str1):\n",
    "    for i in str1:\n",
    "        string = (str1[::-1])\n",
    "    return string\n",
    "str1 = input(\"enter the string: \")\n",
    "reverse(str1)"
   ]
  },
  {
   "cell_type": "markdown",
   "id": "e23b0b99",
   "metadata": {},
   "source": [
    "# Question 3"
   ]
  },
  {
   "cell_type": "code",
   "execution_count": 42,
   "id": "857166d4",
   "metadata": {},
   "outputs": [
    {
     "name": "stdout",
     "output_type": "stream",
     "text": [
      "Enter the string: The quick Brow Fox\n",
      "No. of Upper case characters:  3\n",
      "No. of Lower case characters:  12\n"
     ]
    }
   ],
   "source": [
    "def func1(string):\n",
    "    c_upper = 0\n",
    "    c_lower = 0\n",
    "    for char in string:\n",
    "        if char.isupper():\n",
    "            c_upper += 1\n",
    "        elif char.islower():\n",
    "            c_lower += 1\n",
    "    print(\"No. of Upper case characters: \", c_upper)\n",
    "    print(\"No. of Lower case characters: \", c_lower)\n",
    "n = input(\"Enter the string: \")\n",
    "func1(n)"
   ]
  }
 ],
 "metadata": {
  "kernelspec": {
   "display_name": "Python 3 (ipykernel)",
   "language": "python",
   "name": "python3"
  },
  "language_info": {
   "codemirror_mode": {
    "name": "ipython",
    "version": 3
   },
   "file_extension": ".py",
   "mimetype": "text/x-python",
   "name": "python",
   "nbconvert_exporter": "python",
   "pygments_lexer": "ipython3",
   "version": "3.10.1"
  }
 },
 "nbformat": 4,
 "nbformat_minor": 5
}
